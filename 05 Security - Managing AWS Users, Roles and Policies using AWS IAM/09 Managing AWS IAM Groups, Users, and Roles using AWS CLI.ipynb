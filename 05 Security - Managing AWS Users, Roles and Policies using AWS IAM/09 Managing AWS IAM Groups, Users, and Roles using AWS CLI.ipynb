{
 "cells": [
  {
   "cell_type": "markdown",
   "metadata": {},
   "source": [
    "## Managing AWS IAM Groups, Users, and Roles using AWS CLI\n",
    "\n",
    "As we have understood how to manage AWS IAM Identities such as Groups, Users, and Roles using AWS Web Console, let us get into the details about managing AWS IAM Identities using CLI.\n",
    "* We should be able to manage AWS IAM Identities or Components using the aws iam command.\n",
    "```shell\n",
    "aws iam list-users \\\n",
    "    --profile itvadmin\n",
    "aws iam list-groups \\\n",
    "    --profile itvadmin\n",
    "aws iam list-roles \\\n",
    "    --profile itvadmin\n",
    " \n",
    "# Lists all AWS Managed Policies as well as custom policies\n",
    "aws iam list-policies \\\n",
    "    --profile itvadmin\n",
    " \n",
    "# List only custom policies\n",
    "aws iam list-policies \\\n",
    "    --scope Local \\\n",
    "    --profile itvadmin\n",
    "```\n",
    "* Let us create a user **itvsupport2** and assign it to the group **itvsupport**.\n",
    "```shell\n",
    "aws iam create-user \\\n",
    "    --user-name itvsupport2 \\\n",
    "    --profile itvadmin\n",
    "aws iam list-users \\\n",
    "    --profile itvadmin\n",
    " \n",
    "aws iam add-user-to-group \\\n",
    "    --group-name itvsupport \\\n",
    "    --user-name itvsupport2 \\\n",
    "    --profile itvadmin\n",
    " \n",
    "aws iam list-groups-for-user \\\n",
    "    --user-name itvsupport2 \\\n",
    "    --profile itvadmin\n",
    "```\n",
    "Let us remove the user from the group and then delete. We cannot delete the user when it is part of the group.\n",
    "```shell\n",
    "aws iam remove-user-from-group \\\n",
    "    --group-name itvsupport \\\n",
    "    --user-name itvsupport2 \\\n",
    "    --profile itvadmin\n",
    "aws iam delete-user \\\n",
    "    --user-name itvsupport2 \\\n",
    "    --profile itvadmin\n",
    " \n",
    "aws iam list-users --profile itvadmin\n",
    "```"
   ]
  },
  {
   "cell_type": "markdown",
   "metadata": {},
   "source": []
  }
 ],
 "metadata": {
  "language_info": {
   "name": "python"
  },
  "orig_nbformat": 4
 },
 "nbformat": 4,
 "nbformat_minor": 2
}
