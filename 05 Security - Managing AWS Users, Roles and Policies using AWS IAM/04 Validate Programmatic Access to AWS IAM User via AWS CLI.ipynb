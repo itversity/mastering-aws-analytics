{
 "cells": [
  {
   "cell_type": "markdown",
   "metadata": {},
   "source": [
    "## Validate Programmatic Access to AWS IAM User via AWS CLI\n",
    "\n",
    "Let us go ahead and validate programmatic access by configuring AWS CLI using the access key and secret key generated for our new account.\n",
    "* You need to make sure that AWS CLI is set up on your system.\n",
    "* Launch the terminal or shell and run the `aws configure` command to configure with new keys.\n",
    "* You can create a sample bucket and validate to confirm that your credentials are configured to the user in the right account.\n",
    "* Here are the steps I have followed.\n",
    "    * Configure credentials using profile by name **itvadmin**.\n",
    "```shell\n",
    "aws configure --profile itvadmin\n",
    "```\n",
    "* Create an s3 bucket with some unique name.\n",
    "    * Run the following command to list the newly created bucket.\n",
    "```shell\n",
    "aws s3 ls --profile itvadmin\n",
    "```"
   ]
  },
  {
   "cell_type": "markdown",
   "metadata": {},
   "source": []
  }
 ],
 "metadata": {
  "language_info": {
   "name": "python"
  },
  "orig_nbformat": 4
 },
 "nbformat": 4,
 "nbformat_minor": 2
}
