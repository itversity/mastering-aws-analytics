{
 "cells": [
  {
   "cell_type": "markdown",
   "metadata": {},
   "source": [
    "## Logging into AWS Management Console using AWS IAM User\n",
    "\n",
    "Here are the instructions to login into Management Console using AWS IAM User.\n",
    "* A link will be generated for each AWS account with an AWS account id.\n",
    "* We can use that link to launch the login page with the Account id pre-populated.\n",
    "* Enter the IAM username and password shared with you. It will ask to reset the password if **Users must create a new password at next sign-in** is selected while creating the account.\n",
    "* Make sure to reset the password adhering to the password policy."
   ]
  },
  {
   "cell_type": "markdown",
   "metadata": {},
   "source": []
  }
 ],
 "metadata": {
  "language_info": {
   "name": "python"
  },
  "orig_nbformat": 4
 },
 "nbformat": 4,
 "nbformat_minor": 2
}
