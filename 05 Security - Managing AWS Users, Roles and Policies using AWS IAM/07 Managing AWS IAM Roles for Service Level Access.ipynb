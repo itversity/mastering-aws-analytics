{
 "cells": [
  {
   "cell_type": "markdown",
   "metadata": {},
   "source": [
    "## Managing AWS IAM Roles for Service Level Access\n",
    "\n",
    "AWS IAM Roles are used for assigning the permissions on one service to another. Let us get an overview of how manage AWS IAM Roles for Service Level Access.\n",
    "\n",
    "* Here are some of the examples with respect to one AWS Service to have access to another service.\n",
    "    * Use AWS Lambda Function to process data in the files and write to Redshift Database. In this case AWS Lambda Function need to have permissions on s3 as well as Redshift services.\n",
    "    * Access files in AWS s3 from virtual machine created using AWS EC2. In this case EC2 should have permissions on s3 Service.\n",
    "* We typically create roles and attach policies with them. The policies will have permissions on the services we are interested in. \n",
    "* In the first case, the policies should have permissions on s3 and Redshift. We will attach the policies to the role and the role will be assigned to lambda function.\n",
    "* In second case the policy should have permissions on s3 alone. We will attach the policy to the role and the role will be assigned to EC2 Instance.\n",
    "* All the permissions associated with the roles via policies will be inherited by the service when we attach a role to it.\n",
    "\n",
    "Let us perform these tasks to understand how the roles are defined and used.\n",
    "* Create a role by name itvsupport and attach the AmazonS3ReadOnlyAccess to it. Make sure to choose the service as EC2 as we want to use this role to attach to the EC2 instance.\n",
    "* Launch EC2 instance using this role. We will be using the Amazon Linux image as it will come with AWS CLI already setup.\n",
    "* We don’t need to configure AWS CLI as the permissions are assigned via role to this EC2 instance.\n",
    "* If you provision, EC2 instance with other operating systems than Amazon Linux, then you need to install AWS CLI first.\n",
    "* Login to the EC2 instance and run these commands.\n",
    "```shell\n",
    "# This command will fail.\n",
    "aws s3 rm s3://dg-retail1/retail_db/ \\\n",
    "    --recursive\n",
    " \n",
    "# This command should work as the role has s3 read-only access\n",
    "aws s3 ls dg-retail1 \\\n",
    "    --recursive\n",
    "```\n",
    "\n"
   ]
  },
  {
   "cell_type": "markdown",
   "metadata": {},
   "source": []
  }
 ],
 "metadata": {
  "language_info": {
   "name": "python"
  },
  "orig_nbformat": 4
 },
 "nbformat": 4,
 "nbformat_minor": 2
}
