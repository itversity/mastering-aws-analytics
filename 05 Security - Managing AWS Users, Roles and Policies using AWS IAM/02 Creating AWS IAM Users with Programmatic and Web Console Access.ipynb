{
 "cells": [
  {
   "cell_type": "markdown",
   "metadata": {},
   "source": [
    "## Creating AWS IAM Users with Programmatic and Web Console Access\n",
    "\n",
    "Let us get into the details related to AWS IAM Users.\n",
    "* Login as a root or user with Administrator policy\n",
    "* Go to IAM Service\n",
    "* Create the user and review the options"
   ]
  },
  {
   "cell_type": "markdown",
   "metadata": {},
   "source": []
  }
 ],
 "metadata": {
  "language_info": {
   "name": "python"
  },
  "orig_nbformat": 4
 },
 "nbformat": 4,
 "nbformat_minor": 2
}
