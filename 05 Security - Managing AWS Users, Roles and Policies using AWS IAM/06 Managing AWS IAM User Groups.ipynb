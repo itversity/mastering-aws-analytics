{
 "cells": [
  {
   "cell_type": "markdown",
   "metadata": {},
   "source": [
    "## Managing AWS IAM User Groups\n",
    "\n",
    "Let us go through the details related to AWS IAM User Groups.\n",
    "* We typically have users in IAM Groups.\n",
    "* Permissions are typically defined using Policies and policies are assigned to Groups.\n",
    "* All the users in the group will inherit all the permissions associated with the group.\n",
    "Let us perform these tasks to make sure that we are comfortable in dealing with groups.\n",
    "* Let us create two groups.\n",
    "    * **itvadmin**\n",
    "    * **itvsupport**\n",
    "* Add user **itvadmin** to group **itvadmin**\n",
    "* Add user **itvsupport1** to group **itvsupport**\n",
    "* Detach **AdministratorAccess** policy from user itvadmin and attach it to group itvadmin\n",
    "* Detach **AmazonS3ReadOnlyAccess** policy from user itvsupport1 and attach it to group itvsupport\n",
    "* Run the below command as an itvadmin user to confirm that the user account has all the admin permissions that were assigned earlier directly.\n",
    "```shell\n",
    "aws s3 rm s3://dg-retail1/retail_db/ \\\n",
    "    --recursive \\\n",
    "    --profile itvadmin\n",
    " \n",
    "aws s3 cp ~/Research/data/retail_db s3://dg-retail1/retail_db/ \\\n",
    "    --recursive \\\n",
    "    --exclude \"*.sql\" \\\n",
    "    --exclude \"README.md\" \\\n",
    "    --profile itvadmin\n",
    "```\n",
    "* Run the below commands as itvsupport1 to confirm that the user account has only read-only access on s3.\n",
    "\n",
    "```shell\n",
    "# Both these commands will fail.\n",
    "aws s3 rm s3://dg-retail1/retail_db/ \\\n",
    "    --recursive \\\n",
    "    --profile itvsupport1\n",
    " \n",
    "aws s3 cp ~/Research/data/retail_db s3://dg-retail1/retail_db/ \\\n",
    "    --recursive \\\n",
    "    --exclude \"*.sql\" \\\n",
    "    --exclude \"README.md\" \\\n",
    "    --profile itvsupport1\n",
    " \n",
    "# This command should work as the user have s3 read-only access\n",
    "aws s3 ls dg-retail1 \\\n",
    "    --recursive \\\n",
    "    --profile itvsupport1\n",
    "```"
   ]
  },
  {
   "cell_type": "markdown",
   "metadata": {},
   "source": []
  }
 ],
 "metadata": {
  "language_info": {
   "name": "python"
  },
  "orig_nbformat": 4
 },
 "nbformat": 4,
 "nbformat_minor": 2
}
