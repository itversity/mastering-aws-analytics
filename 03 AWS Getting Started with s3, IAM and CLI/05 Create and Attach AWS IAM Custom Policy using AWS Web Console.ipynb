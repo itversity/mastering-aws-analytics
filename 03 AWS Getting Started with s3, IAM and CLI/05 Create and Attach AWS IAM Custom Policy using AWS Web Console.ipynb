{
 "cells": [
  {
   "cell_type": "markdown",
   "metadata": {},
   "source": [
    "## Create and Attach AWS IAM Custom Policy using AWS Web Console\n",
    "\n",
    "Let us create a custom policy and provide required permissions on the s3 bucket created earlier.\n",
    "* We grant permissions to roles or to users via groups by attaching policies with them.\n",
    "* We can either use AWS Predefined Policies or create custom ones.\n",
    "* In this case we will create a custom policy by name **ITVGitHubS3FullPolicy** by adding a custom definition.\n",
    "\n",
    "```json\n",
    "{\n",
    "    \"Version\": \"2012-10-17\",\n",
    "    \"Statement\": [\n",
    "        {\n",
    "            \"Sid\": \"ListObjectsInBucket\",\n",
    "            \"Effect\": \"Allow\",\n",
    "            \"Action\": [\n",
    "                \"s3:ListBucket\"\n",
    "            ],\n",
    "            \"Resource\": [\n",
    "                \"arn:aws:s3:::itv-github\"\n",
    "            ]\n",
    "        },\n",
    "        {\n",
    "            \"Sid\": \"AllObjectActions\",\n",
    "            \"Effect\": \"Allow\",\n",
    "            \"Action\": \"s3:*Object\",\n",
    "            \"Resource\": [\n",
    "                \"arn:aws:s3:::itv-github/*\"\n",
    "            ]\n",
    "        }\n",
    "    ]\n",
    "}\n",
    "```\n",
    "\n",
    "Let us attach policy to users via group.\n",
    "* Go to the **ITVGitHubGroup** and attach the policy **ITVGitHubS3FullPolicy**.\n",
    "* All the users which are already added as well as users that will be added in future will automatically inherit the permissions to manage objects in the bucket."
   ]
  }
 ],
 "metadata": {
  "language_info": {
   "name": "python"
  },
  "orig_nbformat": 4
 },
 "nbformat": 4,
 "nbformat_minor": 2
}
