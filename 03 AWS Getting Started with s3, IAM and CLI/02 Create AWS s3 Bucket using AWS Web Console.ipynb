{
 "cells": [
  {
   "cell_type": "markdown",
   "metadata": {},
   "source": [
    "## Create AWS s3 Bucket using AWS Web Console\n",
    "\n",
    "Let us create an s3 Bucket using AWS Web Console. It will be used to store GitHub Activity Data.\n",
    "\n",
    "* Go to AWS Web Console and go to s3.\n",
    "* Create a new bucket by name **itv-github**.\n",
    "* We can also create folders for landing and raw zones for our data.\n",
    "* The **landing zone** will be used to ingest data from external sources.\n",
    "* We will store data in the landing zone using JSON. Typically data in the landing zone will be deleted. It will act as a scratch pad and we can delete data that is older than 30 days or as per the SLAs.\n",
    "* The **raw zone** will be used to store data from sources following our data lake standards. In our case we will use parquet as target file format and partition all the data on a daily basis.\n",
    "* We will have the data in the raw zone up to 7 to 10 years in most of the cases as part of data lakes."
   ]
  },
  {
   "cell_type": "markdown",
   "metadata": {},
   "source": []
  }
 ],
 "metadata": {
  "language_info": {
   "name": "python"
  },
  "orig_nbformat": 4
 },
 "nbformat": 4,
 "nbformat_minor": 2
}
