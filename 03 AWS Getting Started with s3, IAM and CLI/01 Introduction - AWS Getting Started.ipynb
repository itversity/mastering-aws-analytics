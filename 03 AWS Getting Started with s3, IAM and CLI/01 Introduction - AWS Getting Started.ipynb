{
 "cells": [
  {
   "cell_type": "markdown",
   "metadata": {},
   "source": [
    "## Introduction - AWS Getting Started\n",
    "\n",
    "Before getting into AWS Analytics services, let us take care of the pre-requisites such as users, roles and policies.\n",
    "\n",
    "* We will not be covering all the policies that are required for a typical project at this time.\n",
    "* We will start with an s3 bucket, group as well as user, role etc using AWS Web Console.\n",
    "* Once we create the users and roles, we will setup AWS CLI.\n",
    "* We will configure AWS CLI using a profile and then validate whether we are able to read from relevant s3 Bucket or not.\n",
    "* Before going further, you need to ensure that you have a valid AWS Account. I would recommend using a personal account."
   ]
  },
  {
   "cell_type": "markdown",
   "metadata": {},
   "source": []
  }
 ],
 "metadata": {
  "language_info": {
   "name": "python"
  },
  "orig_nbformat": 4
 },
 "nbformat": 4,
 "nbformat_minor": 2
}
