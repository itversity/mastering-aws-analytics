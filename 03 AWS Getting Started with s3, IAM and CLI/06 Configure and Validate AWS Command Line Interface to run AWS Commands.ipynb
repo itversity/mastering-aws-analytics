{
 "cells": [
  {
   "cell_type": "markdown",
   "metadata": {},
   "source": [
    "## Configure and Validate AWS Command Line Interface to run AWS Commands\n",
    "\n",
    "Let us configure AWS CLI to access the services and resources related to our GitHub Activity Project.\n",
    "* We can use aws configure command to configure the credentials. We will configure AWS CLI for GitHub Activity project under **itvgithub** profile.\n",
    "* Run the below command copy paste Access Key as well as Secret Key when prompted. Optionally you can also configure the default region.\n",
    "\n",
    "```shell\n",
    "aws configure --profile itvgithub\n",
    "```\n",
    "\n",
    "* The credentials will be saved under **.aws/credentials** in our home directory.\n",
    "* Here is the command to list files under our s3 bucket using the profile.\n",
    "\n",
    "```shell\n",
    "# aws s3 ls <bucket_name>\n",
    "aws s3 ls s3://itv-github --profile itvgithub\n",
    "```"
   ]
  },
  {
   "cell_type": "markdown",
   "metadata": {},
   "source": []
  }
 ],
 "metadata": {
  "language_info": {
   "name": "python"
  },
  "orig_nbformat": 4
 },
 "nbformat": 4,
 "nbformat_minor": 2
}
