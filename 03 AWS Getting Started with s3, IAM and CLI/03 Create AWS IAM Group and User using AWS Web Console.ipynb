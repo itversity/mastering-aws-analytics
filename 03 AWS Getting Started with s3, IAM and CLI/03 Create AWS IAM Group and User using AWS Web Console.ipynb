{
 "cells": [
  {
   "cell_type": "markdown",
   "metadata": {},
   "source": [
    "## Create AWS IAM Group and User using AWS Web Console\n",
    "\n",
    "Let us create an IAM Group as well as User to have access to GitHub Activity data and associated jobs. Typically, this step is taken care of by the AWS Admin or DevOps team.\n",
    "* Go to IAM Console and add a group by the name **ITVGitHubGroup**.\n",
    "* Go to IAM Console and add the user by name **ITVGitHubUser**. Let us add the user to the group ITVGitHubGroup. We will give both AWS web console as well as programmatic access to the user.\n",
    "* We will only use this user using programmatic access. Make sure to download credentials so that we can configure AWS CLI on our desktop or laptop later.\n",
    "* All the permissions that are attached to the group via policies will be inherited by all the users in the group.\n",
    "* Typically we will have multiple users associated with a project and hence we create a group and add all the other users associated with the project.\n",
    "* We might even have different groups with different permissions in a large scale project. For example, developers, testers, business analysts, devops engineers or administrators etc."
   ]
  },
  {
   "cell_type": "markdown",
   "metadata": {},
   "source": []
  }
 ],
 "metadata": {
  "language_info": {
   "name": "python"
  },
  "orig_nbformat": 4
 },
 "nbformat": 4,
 "nbformat_minor": 2
}
