{
 "cells": [
  {
   "cell_type": "markdown",
   "metadata": {},
   "source": [
    "## Overview of AWS IAM Roles to grant permissions between AWS Services\n",
    "\n",
    "Let us also get an overview of AWS IAM Roles. They are typically associated with services such as ec2, emr, glue etc to get permissions on other services.\n",
    "* For a Data Engineering or Data Lake project on AWS, we might have to use multiple services such as Glue, Kinesis, EMR, Athena etc.\n",
    "* The services typically interact with other services and the standard way to grant required permissions is by creating IAM Role.\n",
    "* We can create roles using IAM Web Console. Similar to Users or Groups, roles also inherit permissions via policies."
   ]
  },
  {
   "cell_type": "markdown",
   "metadata": {},
   "source": []
  }
 ],
 "metadata": {
  "language_info": {
   "name": "python"
  },
  "orig_nbformat": 4
 },
 "nbformat": 4,
 "nbformat_minor": 2
}
