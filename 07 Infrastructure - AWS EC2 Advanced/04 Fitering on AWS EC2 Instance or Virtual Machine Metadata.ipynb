{
 "cells": [
  {
   "cell_type": "markdown",
   "metadata": {},
   "source": [
    "## Fitering on AWS EC2 Instance or Virtual Machine Metadata\n",
    "\n",
    "Let us understand how we can filter the data while describing AWS EC2 instances or Virtual Machines using `aws ec2` command.\n",
    "* Get all the AWS EC2 instances which are of type **t2.micro**\n",
    "```shell\n",
    "aws ec2 describe-instances \\\n",
    "    --filters Name=instance-type,Values=t2.micro \\\n",
    "    --output json \\\n",
    "    --profile itvadmin \\\n",
    "    --region us-west-1\n",
    "```\n",
    "* Get only instance id, type and status of t2.micro instances.\n",
    "```shell\n",
    "aws ec2 describe-instances \\\n",
    "    --filters Name=instance-type,Values=t2.micro \\\n",
    "    --query 'Reservations[*].Instances[*].{Instance:InstanceId,InstanceType:InstanceType,Status:State.Name}' \\\n",
    "    --output json \\\n",
    "    --profile itvadmin \\\n",
    "    --region us-west-1\n",
    "```\n",
    "* Get only instance id, type and status of t2.micro instances in stopped state.\n",
    "```shell\n",
    "aws ec2 describe-instances \\\n",
    "    --filters Name=instance-type,Values=t2.micro Name=instance-state-name,Values=stopped \\\n",
    "    --query 'Reservations[*].Instances[*].{Instance:InstanceId,InstanceType:InstanceType,Status:State.Name}' \\\n",
    "    --output json \\\n",
    "    --profile itvadmin \\\n",
    "    --region us-west-1\n",
    "```"
   ]
  },
  {
   "cell_type": "markdown",
   "metadata": {},
   "source": []
  }
 ],
 "metadata": {
  "language_info": {
   "name": "python"
  },
  "orig_nbformat": 4
 },
 "nbformat": 4,
 "nbformat_minor": 2
}
