{
 "cells": [
  {
   "cell_type": "markdown",
   "metadata": {},
   "source": [
    "## Querying on AWS EC2 Instance or Virtual Machine Metadata\n",
    "\n",
    "Let us understand how we can get specific attributes from metadata while describing instances using aws ec2 command.\n",
    "* We can use **--query** to project the metadata related to specific attributes.\n",
    "* As metadata is represented as JSON, we have to specify the attribute using the fully qualified JSON Path.\n",
    "* Get only instance ids of all the instances.\n",
    "```shell\n",
    "aws ec2 describe-instances \\\n",
    "    --query 'Reservations[*].Instances[*].{Instance:InstanceId,Status:State.Name}' \\\n",
    "    --output json \\\n",
    "    --profile itvadmin \\\n",
    "    --region us-west-1\n",
    "```"
   ]
  },
  {
   "cell_type": "markdown",
   "metadata": {},
   "source": []
  }
 ],
 "metadata": {
  "language_info": {
   "name": "python"
  },
  "orig_nbformat": 4
 },
 "nbformat": 4,
 "nbformat_minor": 2
}
