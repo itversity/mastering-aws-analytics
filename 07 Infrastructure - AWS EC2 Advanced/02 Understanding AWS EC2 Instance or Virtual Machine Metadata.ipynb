{
 "cells": [
  {
   "cell_type": "markdown",
   "metadata": {},
   "source": [
    "## Understanding AWS EC2 Instance or Virtual Machine Metadata\n",
    "\n",
    "Let us understand details about metadata related to AWS EC2 Instance or Virtual Machine.\n",
    "\n",
    "* All the actions that are performed while creating the instance are considered metadata.\n",
    "    * Instance Type (Memory, CPU, and Instance Store).\n",
    "    * Security Group\n",
    "    * EC2 Key Pair\n",
    "    * Private and Public IP Addresses as well as DNS Aliases\n",
    "    * VPC and Subnet\n",
    "* We can get all the metadata in the form of JSON by running the describe-instances command.\n",
    "* Let us generate the JSON and review it to understand the structure of the metadata.\n",
    "```shell\n",
    "aws ec2 describe-instances \\\n",
    "    --profile itvadmin \\\n",
    "    --region us-west-1 > instances.json\n",
    "```"
   ]
  },
  {
   "cell_type": "markdown",
   "metadata": {},
   "source": []
  }
 ],
 "metadata": {
  "language_info": {
   "name": "python"
  },
  "orig_nbformat": 4
 },
 "nbformat": 4,
 "nbformat_minor": 2
}
