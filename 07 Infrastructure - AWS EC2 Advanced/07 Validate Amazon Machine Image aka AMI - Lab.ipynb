{
 "cells": [
  {
   "cell_type": "markdown",
   "metadata": {},
   "source": [
    "## Validate Amazon Machine Image aka AMI - Lab\n",
    "\n",
    "Once the Amazon Machine Image aka ami is created using AWS EC2 Instance or Virtual Machine's volume, follow these steps to validate.\n",
    "\n",
    "* Go to Images and create an instance using it.\n",
    "* We have to go through the standard steps.\n",
    "  * Choosing Instance Type\n",
    "  * Configure Instance Details\n",
    "  * Add Storage\n",
    "  * Add or Choose Security Group\n",
    "  * Launch with a new or existing Key Pair.\n",
    "* Once the instance is launched, we will name it as **ec2demo1**.\n",
    "* Wait until the instance is started and then connect via SSH. Once you connect via SSH, make sure to validate that we have Apache 2 as well as AWS CLI already setup and also Apache 2 is started on port 80.\n",
    "* We can also use command line to create the instance using our AMI\n",
    "```shell\n",
    "aws ec2 run-instances \\\n",
    "    --image-id ami-ID \\\n",
    "    --count 1 \\\n",
    "    --instance-type t2.micro \\\n",
    "    --key-name keyname \\\n",
    "    --security-group-ids sg-ID\n",
    "```"
   ]
  },
  {
   "cell_type": "markdown",
   "metadata": {},
   "source": []
  }
 ],
 "metadata": {
  "language_info": {
   "name": "python"
  },
  "orig_nbformat": 4
 },
 "nbformat": 4,
 "nbformat_minor": 2
}
