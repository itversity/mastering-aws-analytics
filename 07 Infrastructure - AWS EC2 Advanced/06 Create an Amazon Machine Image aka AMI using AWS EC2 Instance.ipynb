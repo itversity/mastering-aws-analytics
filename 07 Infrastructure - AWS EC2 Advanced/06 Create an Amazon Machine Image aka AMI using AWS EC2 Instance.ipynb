{
 "cells": [
  {
   "cell_type": "markdown",
   "metadata": {},
   "source": [
    "## Create an Amazon Machine Image aka AMI using AWS EC2 Instance\n",
    "\n",
    "Let us understand how we can create AMI for existing AWS EC2 Instance or Virtual Machine’s Volume. \n",
    "\n",
    "In our case, the EC2 instance name is ec2demo and we will name the image as ec2demoimage.\n",
    "\n",
    "* Go to EC2 Dashboard and then to Instances.\n",
    "* Select the instance for which you want to create AMI.\n",
    "* Go to Storage and click on the Volume.\n",
    "* Create Snapshot for the Volume selected.\n",
    "* Go to Actions and click on Create Image\n",
    "* Creating AMI image from CLI\n",
    "```shell\n",
    "aws ec2 create-image \\\n",
    "    --instance-id i-ID \\\n",
    "    --name webAppAMI \\\n",
    "    --description \"A sample AMI with pre installed apache web server\"\n",
    "```"
   ]
  },
  {
   "cell_type": "markdown",
   "metadata": {},
   "source": []
  }
 ],
 "metadata": {
  "language_info": {
   "name": "python"
  },
  "orig_nbformat": 4
 },
 "nbformat": 4,
 "nbformat_minor": 2
}
