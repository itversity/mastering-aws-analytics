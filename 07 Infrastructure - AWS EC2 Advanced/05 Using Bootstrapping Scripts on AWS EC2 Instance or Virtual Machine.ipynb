{
 "cells": [
  {
   "cell_type": "markdown",
   "metadata": {},
   "source": [
    "## Using Bootstrapping Scripts on AWS EC2 Instance or Virtual Machine\n",
    "\n",
    "Let us understand how to take care of installing additional libraries or softwares as AWS EC2 instances or Virtual Machines are created and started for the first time.\n",
    "\n",
    "* Let’s terminate the existing ec2demo instance and create a new one with bootstrap script.\n",
    "* Launch EC2 instance using Ubuntu 18.04\n",
    "* Install Apache Web Server\n",
    "* Install Python3 Pip\n",
    "* Install AWS CLI using pip\n",
    "* We can use this [document](https://docs.aws.amazon.com/AWSEC2/latest/UserGuide/user-data.html) as reference to prepare the ec2 instance as it is launched.\n",
    "```shell\n",
    "#!/bin/bash\n",
    "apt update -y\n",
    "apt install apache2 -y\n",
    "apt install python3-pip -y\n",
    "python3 -m pip install awscli\n",
    "```\n",
    "* Create instance using aws cli\n",
    "```shell\n",
    "aws ec2 run-instances \\\n",
    "    --image-id ami-013f17f36f8b1fefb \\\n",
    "    --count 1 \\\n",
    "    --instance-type t2.micro \\\n",
    "    --key-name keyname \\\n",
    "    --security-group-ids sg-ID \\\n",
    "    --user-data file://ec2_user_data.sh\n",
    "```"
   ]
  },
  {
   "cell_type": "markdown",
   "metadata": {},
   "source": []
  }
 ],
 "metadata": {
  "language_info": {
   "name": "python"
  },
  "orig_nbformat": 4
 },
 "nbformat": 4,
 "nbformat_minor": 2
}
