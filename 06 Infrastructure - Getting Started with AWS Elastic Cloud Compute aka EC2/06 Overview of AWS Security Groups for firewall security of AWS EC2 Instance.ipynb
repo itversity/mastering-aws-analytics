{
 "cells": [
  {
   "cell_type": "markdown",
   "metadata": {},
   "source": [
    "## Overview of AWS Security Groups for firewall security of AWS EC2 Instance\n",
    "\n",
    "Let us understand the basics of AWS EC2 Security Groups. AWS EC2 Security Groups facilitate us to define Firewall rules to block unintended traffic into EC2 instances from external systems.\n",
    "* We need to choose an existing security group or create a new one while launching an ec2 instance.\n",
    "* By default, SSH Daemon will be running on Linux-based AWS EC2 instances on AWS using port 22.\n",
    "* The default rule as part of most of the security groups is to open port 22 so that we can connect from remote machines using SSH.\n",
    "* We will be able to login using SSH only.\n",
    "Let us perform these tasks to understand the relevance of security groups.\n",
    "* Make sure you can connect to the instance that is launched earlier using SSH.\n",
    "* Go to the security group associated with the ec2 instance and delete the rule related to port 22.\n",
    "* Try connecting to the AWS EC2 instance using SSH. It will be struck.\n",
    "* Go back and open port 22 for everyone and validate by using SSH.\n",
    "* Install Apache on the Ubuntu machine. Login and run these commands to install and start the Apache Web server.\n",
    "\n",
    "```shell\n",
    "sudo apt update\n",
    "sudo apt install -y apache2\n",
    "sudo systemctl status apache2\n",
    "# Hit Ctrl+C to come out of the command output\n",
    " \n",
    "# Confirm that the apache server is running on port 80 using telnet\n",
    "telnet localhost 80\n",
    "telnet ec2-34-232-68-20.compute-1.amazonaws.com 80\n",
    "```\n",
    "* Go to the browser and try to access Apache Web Server using http://<public_ip>. Here is the link for your reference - http://ec2-34-232-68-20.compute-1.amazonaws.com\n",
    "* The link will not work. Now go to the security group and the new rule for port number 80 using My IP.\n",
    "* Now the link should work without any issues. It will launch the default Apache Web Server Page for Ubuntu."
   ]
  },
  {
   "cell_type": "markdown",
   "metadata": {},
   "source": []
  }
 ],
 "metadata": {
  "language_info": {
   "name": "python"
  },
  "orig_nbformat": 4
 },
 "nbformat": 4,
 "nbformat_minor": 2
}
