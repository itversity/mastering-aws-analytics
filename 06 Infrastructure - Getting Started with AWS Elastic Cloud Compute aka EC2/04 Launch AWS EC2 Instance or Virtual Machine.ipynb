{
 "cells": [
  {
   "cell_type": "markdown",
   "metadata": {},
   "source": [
    "## Launch AWS EC2 Instance or Virtual Machine\n",
    "\n",
    "Let us understand how we can launch AWS EC2 instance or Virtual Machine using AWS Web Console. Follow the video to understand how to create an EC2 instance using Ubuntu 18.04.\n",
    "* You can leverage free tier instances to learn how to create instances.\n",
    "* Go to **AWS Management Console** and then to **EC2 Console**.\n",
    "* Click on **Launch Instance** and follow the steps as demonstrated."
   ]
  },
  {
   "cell_type": "markdown",
   "metadata": {},
   "source": []
  }
 ],
 "metadata": {
  "language_info": {
   "name": "python"
  },
  "orig_nbformat": 4
 },
 "nbformat": 4,
 "nbformat_minor": 2
}
