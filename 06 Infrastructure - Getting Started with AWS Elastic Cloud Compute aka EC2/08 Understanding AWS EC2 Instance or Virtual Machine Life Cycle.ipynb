{
 "cells": [
  {
   "cell_type": "markdown",
   "metadata": {},
   "source": [
    "## Understanding AWS EC2 Instance or Virtual Machine Life Cycle\n",
    "\n",
    "Let us go through the life cycle of AWS EC2 Instance. AWS EC2 instance will be in one of these states as long as it is not terminated.\n",
    "* Running\n",
    "* Stopped\n",
    "* Restarting\n",
    "\n",
    "If you stop the EC2 instance, the public IP might be reset as it is ephemeral by default. You need to lease elastic IP and assign it to the EC2 instance so that public IP does not change. \n",
    "\n",
    "**Ephemeral means temporary** and in cloud we use the term quite often. Make sure to remember **Ephemeral**.\n",
    "\n",
    "As long as EC2 Instance is stopped you will not be charged for the instance. But, if you use EBS for storage, you have to pay for it."
   ]
  },
  {
   "cell_type": "markdown",
   "metadata": {},
   "source": []
  }
 ],
 "metadata": {
  "language_info": {
   "name": "python"
  },
  "orig_nbformat": 4
 },
 "nbformat": 4,
 "nbformat_minor": 2
}
