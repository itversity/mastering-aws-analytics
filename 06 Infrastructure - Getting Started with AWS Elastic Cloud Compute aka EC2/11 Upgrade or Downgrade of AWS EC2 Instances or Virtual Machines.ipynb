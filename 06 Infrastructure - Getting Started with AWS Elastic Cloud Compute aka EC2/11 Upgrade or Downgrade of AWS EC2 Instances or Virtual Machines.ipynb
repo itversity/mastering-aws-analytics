{
 "cells": [
  {
   "cell_type": "markdown",
   "metadata": {},
   "source": [
    "## Upgrade or Downgrade of AWS EC2 Instances or Virtual Machines\n",
    "\n",
    "Let us understand how to upgrade or downgrade EC2 Instance using AWS Management Console.\n",
    "* Increasing Memory or CPU or both is called Upgrading the EC2 Instance.\n",
    "* Decreasing Memory or CPU or both is called Downgrading the EC2 Instance.\n",
    "* Here we are talking about vertical scaling. Upgrading or Downgrading the same instance with a different configuration is vertical scaling.\n",
    "* Adding more servers or removing some of the servers from a cluster of servers is called horizontal scaling. We typically talk about horizontal scaling with services like EMR, ECS, EKS, etc.\n",
    "\n",
    "Let us go through the steps to upgrade as well as downgrade the EC2 Instance.\n",
    "* Login into AWS Management Console\n",
    "* Go to EC2 Console and choose the instance to which you want to upgrade.\n",
    "* Go to **Instance State** and stop the instance. You can also use CLI to stop the instance.\n",
    "* Go to **Actions**, then choose **Instance Settings** and then click on **Change Instance Type**.\n",
    "* As of now, the EC2 Instance is of type **t2.micro**. Let us upgrade it to **t2.medium**.\n",
    "* Start the server and login via SSH to confirm that you can log in to the server.\n",
    "* Once validated, you can shutdown, downgrade to t2.micro and start the server.\n",
    "* You can then log in once again to validate.\n",
    "* We can run the below commands to confirm the memory and CPU configuration from within the server.\n",
    "```shell\n",
    "free -h\n",
    "lscpu\n",
    "```\n",
    "* You can also run these commands to change the instance type using the command line.\n",
    "```shell\n",
    "aws ec2 stop-instances \\\n",
    "    --instance-id i-07c085b765f162233 \\\n",
    "    --profile itvadmin \\\n",
    "    --region us-west-1\n",
    " \n",
    "aws ec2 modify-instance-attribute \\\n",
    "    --instance-id i-07c085b765f162233 \\\n",
    "    --instance-type t2.micro \\\n",
    "    --profile itvadmin \\\n",
    "    --region us-west-1\n",
    " \n",
    "aws ec2 describe-instances \\\n",
    "    --instance-id i-07c085b765f162233 \\\n",
    "    --profile itvadmin \\\n",
    "    --region us-west-1\n",
    " \n",
    "aws ec2 start-instances \\\n",
    "    --instance-id i-07c085b765f162233 \\\n",
    "    --profile itvadmin \\\n",
    "    --region us-west-1\n",
    "```"
   ]
  },
  {
   "cell_type": "markdown",
   "metadata": {},
   "source": []
  }
 ],
 "metadata": {
  "language_info": {
   "name": "python"
  },
  "orig_nbformat": 4
 },
 "nbformat": 4,
 "nbformat_minor": 2
}
