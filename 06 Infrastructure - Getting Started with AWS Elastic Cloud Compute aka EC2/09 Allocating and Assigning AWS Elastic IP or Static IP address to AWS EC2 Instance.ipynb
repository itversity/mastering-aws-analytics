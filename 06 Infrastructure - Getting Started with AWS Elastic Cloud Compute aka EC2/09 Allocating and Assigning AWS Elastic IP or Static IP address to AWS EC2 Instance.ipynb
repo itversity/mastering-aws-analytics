{
 "cells": [
  {
   "cell_type": "markdown",
   "metadata": {},
   "source": [
    "## Allocating and Assigning AWS Elastic IP or Static IP address to AWS EC2 Instance\n",
    "\n",
    "Let us understand how we can configure a static or elastic IP address for AWS EC2 Instance.\n",
    "* Go to AWS Web Console and then go to EC2 Console.\n",
    "* Go to **Elastic IPs** under **Network & Security**.\n",
    "* Click on **Allocate Elastic IP address** to lease the IP address so that we can associate with the ec2 instance created earlier.\n",
    "* Select newly allocated elastic IP address, go to **Actions** and click on **Associate Elastic IP address**.\n",
    "* Select the EC2 instance in the drop-down related to Instance.\n",
    "* Now validate by running SSH using newly associated Public DNS Alias and make sure that you can connect to EC2 instance.\n",
    "\n",
    "You can also try accessing Apache Web Server that is supported earlier via **http**."
   ]
  },
  {
   "cell_type": "markdown",
   "metadata": {},
   "source": []
  }
 ],
 "metadata": {
  "language_info": {
   "name": "python"
  },
  "orig_nbformat": 4
 },
 "nbformat": 4,
 "nbformat_minor": 2
}
