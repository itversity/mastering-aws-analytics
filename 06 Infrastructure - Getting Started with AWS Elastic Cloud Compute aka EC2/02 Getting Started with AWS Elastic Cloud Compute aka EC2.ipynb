{
 "cells": [
  {
   "cell_type": "markdown",
   "metadata": {},
   "source": [
    "## Getting Started with AWS Elastic Cloud Compute aka EC2\n",
    "\n",
    "Let us get started with AWS Elastic Cloud Compute aka EC2. We typically create virtual machines using AWS EC2 Service and they are also known as AWS EC2 Instances.\n",
    "\n",
    "* EC2 stands for **Elastic Cloud Compute**\n",
    "* It is nothing but a virtual machine provisioned from AWS Data Center for you. The Virtual Machines are provisioned from availability zones within a region.\n",
    "* EC2 instances are provisioned using the instance type. An instance type is nothing but a combination of pre-configured CPU, Memory, and Instance Store.\n",
    "* On top of CPU, Memory, and Instance Store, we also need to choose Operating System, at least one EBS for the root file system, VPC for networking, security groups for firewall security, and EC2 Key Pair to login into the system.\n",
    "* EC2 instances can be in a running or stopped state. You will be charged only when the instance is up and running (except for storage).\n",
    "* You can attach additional EBS Volumes to add more storage and you can create snapshots for the volumes periodically for backups."
   ]
  },
  {
   "cell_type": "markdown",
   "metadata": {},
   "source": []
  }
 ],
 "metadata": {
  "language_info": {
   "name": "python"
  },
  "orig_nbformat": 4
 },
 "nbformat": 4,
 "nbformat_minor": 2
}
