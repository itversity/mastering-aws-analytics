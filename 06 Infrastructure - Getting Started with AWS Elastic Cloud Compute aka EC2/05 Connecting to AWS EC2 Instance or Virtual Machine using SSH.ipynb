{
 "cells": [
  {
   "cell_type": "markdown",
   "metadata": {},
   "source": [
    "## Connecting to AWS EC2 Instance or Virtual Machine using SSH\n",
    "\n",
    "Let us understand how to connect to AWS EC2 Instance using SSH from Mac or Linux. We can use the Mac or Linux terminal to connect to remote servers via SSH.\n",
    "\n",
    "* Here is the command to connect to AWS EC2 Instance via SSH for reference.\n",
    "```shell\n",
    "ssh -i ~/.ssh/itvaws.pem \\\n",
    "    ubuntu@ec2-34-232-68-20.compute-1.amazonaws.com\n",
    "```"
   ]
  },
  {
   "cell_type": "markdown",
   "metadata": {},
   "source": []
  }
 ],
 "metadata": {
  "language_info": {
   "name": "python"
  },
  "orig_nbformat": 4
 },
 "nbformat": 4,
 "nbformat_minor": 2
}
