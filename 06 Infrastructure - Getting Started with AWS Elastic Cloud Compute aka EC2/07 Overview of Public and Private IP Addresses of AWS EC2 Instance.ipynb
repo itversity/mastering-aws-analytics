{
 "cells": [
  {
   "cell_type": "markdown",
   "metadata": {},
   "source": [
    "## Overview of Public and Private IP Addresses of AWS EC2 Instance\n",
    "\n",
    "Let us understand the concepts behind public and private IP addresses associated with AWS EC2 Instances.\n",
    "* Typically 2 IP Addresses and corresponding DNS aliases will be attached to each AWS EC2 Instance.\n",
    "* Public DNS aliases start with **ec2** and Private DNS aliases start with **ip**.\n",
    "* Public DNS alias or underlying Public IP address can be used to access EC2 instances or services running on it via the internet from outside of AWS.\n",
    "* Private DNS alias or underlying Private IP address can be used for internal communication between EC2 instances within AWS VPC.\n",
    "* By default, the Public DNS alias or Public IP address is ephemeral. It means if you stop and start an EC2 instance, most likely the Public DNS alias and Public IP address will change."
   ]
  },
  {
   "cell_type": "markdown",
   "metadata": {},
   "source": []
  }
 ],
 "metadata": {
  "language_info": {
   "name": "python"
  },
  "orig_nbformat": 4
 },
 "nbformat": 4,
 "nbformat_minor": 2
}
