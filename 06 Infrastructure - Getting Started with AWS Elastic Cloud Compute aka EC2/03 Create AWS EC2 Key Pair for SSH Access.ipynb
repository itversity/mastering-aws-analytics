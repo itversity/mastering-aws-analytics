{
 "cells": [
  {
   "cell_type": "markdown",
   "metadata": {},
   "source": [
    "## Create AWS EC2 Key Pair for SSH Access\n",
    "Let us understand how to create AWS EC2 Key Pair so that we can connect to the AWS EC2 instance from external clients such as our PC or Mac.\n",
    "* We can either create a key pair or use an existing one while creating an EC2 instance.\n",
    "* It is not good practice to create key pairs while creating EC2 instances.\n",
    "Here are the instructions to create a key pair.\n",
    "* Login into AWS Web Console.\n",
    "* Search for EC2 and go to EC2 Console.\n",
    "* On the left sidebar, you have EC2 Key Pair under Security and Networking. Click on EC2 Key Pair and then click on “Create Key Pair”.\n",
    "* Make sure to download the pem file and save it to the standard location on our PC or Mac. You need this later to connect to the EC2 instance.\n",
    "Let us understand what happens when we create a Key Pair.\n",
    "* A random private key and the associated public key will be created.\n",
    "* Private Key files will be provided to you for download.\n",
    "* Public Key will be managed somewhere inside AWS repositories.\n",
    "* When you launch an AWS EC2 instance with a specific key pair, the public key will be added to authorized_keys on the server under standard user."
   ]
  },
  {
   "cell_type": "markdown",
   "metadata": {},
   "source": []
  }
 ],
 "metadata": {
  "language_info": {
   "name": "python"
  },
  "orig_nbformat": 4
 },
 "nbformat": 4,
 "nbformat_minor": 2
}
