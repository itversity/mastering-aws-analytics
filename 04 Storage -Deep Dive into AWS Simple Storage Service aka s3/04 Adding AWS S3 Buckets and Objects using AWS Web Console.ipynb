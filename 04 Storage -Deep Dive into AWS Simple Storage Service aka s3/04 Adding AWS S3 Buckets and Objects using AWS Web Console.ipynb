{
 "cells": [
  {
   "cell_type": "markdown",
   "metadata": {},
   "source": [
    "## Adding AWS S3 Buckets and Objects using AWS Web Console\n",
    "\n",
    "Let us get into the details related to AWS s3 Buckets, Folders, and Objects.\n",
    "* Create an AWS s3 bucket using AWS Web Console by using your initials and then retail. In my case, it is **dg-retail**. We cannot use underscores and other special characters than hyphen while creating buckets.\n",
    "* AWS S3 Bucket name has to be unique globally and it is owned by the account that created it.\n",
    "* Upload all the 6 folders from the retail_db data set which you might have set up earlier. Using AWS Web Console, you can upload only one file at a time.\n",
    "* S3 uses object storage (not typical file storage). Object Storage is abstraction to store files in s3."
   ]
  }
 ],
 "metadata": {
  "language_info": {
   "name": "python"
  },
  "orig_nbformat": 4
 },
 "nbformat": 4,
 "nbformat_minor": 2
}
