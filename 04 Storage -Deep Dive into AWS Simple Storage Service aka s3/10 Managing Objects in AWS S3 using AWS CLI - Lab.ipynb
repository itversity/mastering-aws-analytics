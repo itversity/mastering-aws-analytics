{
 "cells": [
  {
   "cell_type": "markdown",
   "metadata": {},
   "source": [
    "## Managing Objects in AWS S3 using AWS CLI - Lab\n",
    "\n",
    "You can perform the below tasks to make sure that you are comfortable using CLI to manage objects in AWS s3.\n",
    "* List the folders in the **dg-retail** bucket created earlier. It is recommended to list the objects recursively to review all the objects.\n",
    "* Delete the folders in the **retail_db** main folder from the bucket created earlier.\n",
    "* Go to AWS Web Console and confirm that folders and objects in the **retail_db** folder within the **dg-retail** bucket are deleted.\n",
    "* Copy all the folders along with files in the retail_db folder from the local file system to s3. Make sure to copy these folders along with the files in them.\n",
    "    * departments\n",
    "    * categories\n",
    "    * products\n",
    "    * orders\n",
    "    * order_items\n",
    "    * customers\n",
    "* Make sure to validate using both CLI as well as AWS Web Console.\n",
    "* Hint: You can delete as well as copy all the folders and files using one command in recursive mode."
   ]
  },
  {
   "cell_type": "markdown",
   "metadata": {},
   "source": []
  }
 ],
 "metadata": {
  "language_info": {
   "name": "python"
  },
  "orig_nbformat": 4
 },
 "nbformat": 4,
 "nbformat_minor": 2
}
