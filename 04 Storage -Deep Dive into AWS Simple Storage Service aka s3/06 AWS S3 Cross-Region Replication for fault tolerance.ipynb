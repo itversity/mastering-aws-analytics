{
 "cells": [
  {
   "cell_type": "markdown",
   "metadata": {},
   "source": [
    "## AWS S3 Cross-Region Replication for fault tolerance\n",
    "\n",
    "Let us go through the details about the Cross-Region Replication of AWS s3 Bucket or objects within AWS s3 Bucket.\n",
    "* In some extreme cases, our S3 might not be accessible within a specific region due to unforeseen circumstances which might impact data centers in AWS Region or AZ within AWS Region.\n",
    "* By enabling **Cross-Region Replication** we can have a copy of the s3 bucket or objects within the bucket in some other Region.\n",
    "\n",
    "Let’s enable **Cross-Region Replication** of our bucket **dg-retail**.\n",
    "* Login to AWS Web Console and go to S3 Management Console.\n",
    "* Create another bucket in another region by name **dg-retail-copy**\n",
    "* Create a role by the name **AWSS3FullAccessRole** with **AmazonS3FullAccess** policy.\n",
    "* Go to the bucket (**dg-retail** in my case).\n",
    "* Click on Management and go to **Replication rules**.\n",
    "* Click on **Create replication rule**.\n",
    "* Replication rule name: **Retail replication**\n",
    "* Status: **Enabled**\n",
    "* Choose a Rule Scope: Choose to **Limit the scope of this rule using one or more filters**\n",
    "* Prefix: **retail_db** (all objects under retail_db will be replicated)\n",
    "* Enter bucket name: **dg-retail-copy**\n",
    "* Make sure to enable versioning on the destination bucket.\n",
    "* Make sure to choose **AWSS3FullAccessRole** and click on **Save**.\n",
    "\n",
    "Note: Only new files added with Prefix defined in the filter will be replicated. Existing files will not be replicated."
   ]
  },
  {
   "cell_type": "markdown",
   "metadata": {},
   "source": []
  }
 ],
 "metadata": {
  "language_info": {
   "name": "python"
  },
  "orig_nbformat": 4
 },
 "nbformat": 4,
 "nbformat_minor": 2
}
