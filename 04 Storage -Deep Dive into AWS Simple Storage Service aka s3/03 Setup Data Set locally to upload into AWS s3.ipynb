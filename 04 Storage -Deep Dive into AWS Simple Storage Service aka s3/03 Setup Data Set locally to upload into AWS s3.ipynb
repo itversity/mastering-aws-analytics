{
 "cells": [
  {
   "cell_type": "markdown",
   "metadata": {},
   "source": [
    "## Setup Data Set locally to upload into AWS s3\n",
    "\n",
    "Make sure to set up a data set for you to learn about AWS Simple Storage Service aka s3.\n",
    "* I am using **/Users/itversity/Research/data** as the main folder for all my data sets on my Mac. You can choose the location of your choice.\n",
    "* You can clone the repository [from](https://github.com/dgadiraju/retail_db.git) here into the folder you have decided upon.\n",
    "* It will create a folder called retail_db and will contain 6 subfolders.\n",
    "* Make sure to review the subfolders to confirm data is downloaded."
   ]
  },
  {
   "cell_type": "markdown",
   "metadata": {},
   "source": []
  }
 ],
 "metadata": {
  "language_info": {
   "name": "python"
  },
  "orig_nbformat": 4
 },
 "nbformat": 4,
 "nbformat_minor": 2
}
