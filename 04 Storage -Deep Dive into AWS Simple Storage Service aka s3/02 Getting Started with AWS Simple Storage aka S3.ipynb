{
 "cells": [
  {
   "cell_type": "markdown",
   "metadata": {},
   "source": [
    "## Getting Started with AWS Simple Storage aka S3\n",
    "\n",
    "Let us get an overview of AWS Simple Storage aka s3.\n",
    "* S3 stands for Simple Storage Service.\n",
    "* It is a low-cost cloud-based permanent storage that is accessible from anywhere based upon the permissions."
   ]
  },
  {
   "cell_type": "markdown",
   "metadata": {},
   "source": []
  }
 ],
 "metadata": {
  "language_info": {
   "name": "python"
  },
  "orig_nbformat": 4
 },
 "nbformat": 4,
 "nbformat_minor": 2
}
