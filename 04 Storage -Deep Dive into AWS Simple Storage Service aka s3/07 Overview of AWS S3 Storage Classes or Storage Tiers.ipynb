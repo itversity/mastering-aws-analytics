{
 "cells": [
  {
   "cell_type": "markdown",
   "metadata": {},
   "source": [
    "## Overview of AWS S3 Storage Classes or Storage Tiers\n",
    "\n",
    "Let us review different [Storage Classes or Storage Tiers](https://aws.amazon.com/s3/storage-classes/?sc_icampaign=Adoption_Campaign_m6y20_console_storage_s3_storage-classes&sc_ichannel=ha&sc_icontent=awssm-4885_console-s3_all_users&sc_ioutcome=CSI_Digital_Marketing&sc_iplace=console-s3&trk=ha_a134p000003yIfKAAU~ha_awssm-4885_console-s3_all_users&trkCampaign=CSI_Storage_S3_Storage_Classes) in AWS s3. You can review the storage classes as well as the Performance Chart to get a detailed understanding of Storage Classes.\n",
    "\n",
    "* We can change the storage class while uploading files either by using s3 Management Console or AWS CLI Commands.\n",
    "* We can edit the storage class at the level of an object or folder. It is available under **Actions**.\n",
    "* By default the storage class is **Standard**. You can change to any other storage class. You should be familiar with which type of storage class should be used as per your requirements.\n",
    "* We can configure the storage class as part of the **Replication Rule**. It is useful when you are using replication for low-cost backup.\n",
    "    * Click on edit for replication rule.\n",
    "    * At the destination, change the storage class.\n",
    "    * Delete on the source bucket **dg-retail** and upload the files again.\n",
    "    * Refresh **dg-retail-copy** and validate the storage class.\n",
    "* We can also configure the storage class as part of the Life Cycle. Update lifecycle rule **Archive Old Retail Files** as follows.\n",
    "    * Change the storage class of noncurrent versions to Glacier with 0 days.\n",
    "    * Delete noncurrent versions after 3 days.\n",
    "    * View all the versions by clicking on **List Versions**.\n",
    "    * It might not be affected immediately."
   ]
  },
  {
   "cell_type": "markdown",
   "metadata": {},
   "source": []
  }
 ],
 "metadata": {
  "language_info": {
   "name": "python"
  },
  "orig_nbformat": 4
 },
 "nbformat": 4,
 "nbformat_minor": 2
}
