{
 "cells": [
  {
   "cell_type": "markdown",
   "metadata": {},
   "source": [
    "## Managing AWS S3 buckets and objects using AWS CLI\n",
    "\n",
    "Let us understand how we can manage AWS s3 Buckets and Objects using AWS CLI.\n",
    "* We have a subcommand called s3 under aws main command.\n",
    "* You can get help on the aws s3 command using the below command\n",
    "```shell\n",
    "aws s3 help\n",
    "```\n",
    "* Here are some of the important commands under s3.\n",
    "    * Listing objects and folders - ls\n",
    "    * Copying files - cp\n",
    "    * We can use cp to copy the files from the local file system to s3, s3 to the local file system as well as s3 to s3.\n",
    "    * Moving objects or folders - mv\n",
    "    * Deleting objects or folders - rm\n",
    "    * Creating bucket - mb\n",
    "    * Removing bucket - rb\n",
    "* You can get help on any subcommand using the below format.\n",
    "```shell\n",
    "aws s3 <subcommand> help\n",
    "aws s3 ls help # Example\n",
    "```"
   ]
  },
  {
   "cell_type": "markdown",
   "metadata": {},
   "source": []
  }
 ],
 "metadata": {
  "language_info": {
   "name": "python"
  },
  "orig_nbformat": 4
 },
 "nbformat": 4,
 "nbformat_minor": 2
}
