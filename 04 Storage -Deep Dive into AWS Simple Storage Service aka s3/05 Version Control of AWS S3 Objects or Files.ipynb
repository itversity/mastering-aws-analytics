{
 "cells": [
  {
   "cell_type": "markdown",
   "metadata": {},
   "source": [
    "## Version Control of AWS S3 Objects or Files\n",
    "\n",
    "Let us understand the details related to the versioning of the S3 Bucket. We will also configure the basic life cycle.\n",
    "* Login to AWS Web Console and go to S3 Management Console.\n",
    "* Go to the bucket (**dg-retail** in my case).\n",
    "* Click on properties and review Bucket Versioning. By default, it is suspended.\n",
    "* You can click on edit and enable versioning.\n",
    "\n",
    "Why Versioning of the S3 Bucket?\n",
    "* We might delete the objects or update the objects in S3 accidentally. Versioning will facilitate us to recover the objects using the prior version.\n",
    "* Due to a bug in the code or mistake, objects might get corrupted. The corrupted files or objects can be overwritten with the prior versions of the files or objects.\n",
    "\n",
    "Once versioning is enabled we can go to Management and add Life cycle rules. We will add a basic life cycle rule to delete previous versions older than 3 days.\n",
    "* Click on Management then click on **Create Lifecycle Rule**.\n",
    "* Name: **Archive Old Retail Files**\n",
    "* We can filter data by Prefix or Tag or both. In our case, we will filter by Prefix - enter **retail_db**. The prefix is nothing but the beginning string of the Object Key.\n",
    "* Under **Lifecycle rule actions**, choose **Permanently delete previous versions of objects**.\n",
    "* Enter **3** for the **Number of days after objects become previous versions**.\n",
    "* Click on **Create rule** to create the rule.\n",
    "\n",
    "We will not be able to validate immediately. You can reload files and then validate after 3 days."
   ]
  },
  {
   "cell_type": "markdown",
   "metadata": {},
   "source": []
  }
 ],
 "metadata": {
  "language_info": {
   "name": "python"
  },
  "orig_nbformat": 4
 },
 "nbformat": 4,
 "nbformat_minor": 2
}
