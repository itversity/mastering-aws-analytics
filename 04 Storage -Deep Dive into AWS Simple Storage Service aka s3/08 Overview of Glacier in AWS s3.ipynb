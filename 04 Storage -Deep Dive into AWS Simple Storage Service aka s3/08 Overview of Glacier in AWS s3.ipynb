{
 "cells": [
  {
   "cell_type": "markdown",
   "metadata": {},
   "source": [
    "## Overview of Glacier in AWS s3\n",
    "\n",
    "Let us get the details about low-cost storage called Glacier within AWS s3.\n",
    "* The glacier is a low-cost tier within s3.\n",
    "* We can use Glacier either to manage older versions or replicas for backup.\n",
    "* Here are the most common ways in which we can set storage class as Glacier.\n",
    "    * Edit the object or folder to use Glacier.\n",
    "    * Configure Glacier as part of lifecycle management to move older versions to Glacier.\n",
    "    * Configure Glacier as part of defining the Cross-Region Replication rule."
   ]
  }
 ],
 "metadata": {
  "language_info": {
   "name": "python"
  },
  "orig_nbformat": 4
 },
 "nbformat": 4,
 "nbformat_minor": 2
}
